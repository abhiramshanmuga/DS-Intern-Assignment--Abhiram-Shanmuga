{
 "cells": [
  {
   "cell_type": "markdown",
   "id": "610ce72d",
   "metadata": {},
   "source": [
    "# Jupyter Notebook of Smart Factory Energy Prediction Challenge"
   ]
  }
 ],
 "metadata": {
  "language_info": {
   "name": "python"
  }
 },
 "nbformat": 4,
 "nbformat_minor": 5
}
